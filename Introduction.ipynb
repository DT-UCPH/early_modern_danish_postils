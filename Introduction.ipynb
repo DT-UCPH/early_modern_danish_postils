{
 "cells": [
  {
   "cell_type": "markdown",
   "id": "a0c47728",
   "metadata": {},
   "source": [
    "# Introduction to the corpus\n",
    "The following notebook is designed to give an introduction to basic functions to can perform with the corpus using the Natural Language Toolkit as well as processes for preparing the texts."
   ]
  },
  {
   "cell_type": "code",
   "execution_count": 1,
   "id": "9fa040ef",
   "metadata": {},
   "outputs": [],
   "source": [
    "# Requirements\n",
    "import re\n",
    "import os\n",
    "import nltk"
   ]
  },
  {
   "cell_type": "markdown",
   "id": "f4b3635e",
   "metadata": {},
   "source": [
    "Generate a list of filenames for from data-folder"
   ]
  },
  {
   "cell_type": "code",
   "execution_count": 2,
   "id": "cd3b2d45",
   "metadata": {},
   "outputs": [],
   "source": [
    "file_list = ['data/' + file for file in os.listdir('data/') if file.endswith('.txt')]"
   ]
  },
  {
   "cell_type": "markdown",
   "id": "f1dcc65d",
   "metadata": {},
   "source": [
    "Combine all available files into a single variable. This is intended to simplify the process and enables exploration of the entire corpus. If doing comparative studies, perform the following procedures for each file in the corpus."
   ]
  },
  {
   "cell_type": "code",
   "execution_count": 3,
   "id": "2e63933b",
   "metadata": {},
   "outputs": [],
   "source": [
    "corpus = ''\n",
    "for text in file_list:\n",
    "    with open(text,'r',encoding='utf-8') as file:\n",
    "        corpus += file.read()"
   ]
  },
  {
   "cell_type": "markdown",
   "id": "56f37776",
   "metadata": {},
   "source": [
    "## Cleaning the data"
   ]
  },
  {
   "cell_type": "markdown",
   "id": "ec610549",
   "metadata": {},
   "source": [
    "Import the 'punctuation' variable from 'string' library and use as basis for removing punctuation. Do this last, since certain types of punctuation might have specific functions."
   ]
  },
  {
   "cell_type": "code",
   "execution_count": 4,
   "id": "0c7699c8",
   "metadata": {},
   "outputs": [
    {
     "data": {
      "text/plain": [
       "'!\"#$%&\\'()*+,-./:;<=>?@[\\\\]^_`{|}~'"
      ]
     },
     "execution_count": 4,
     "metadata": {},
     "output_type": "execute_result"
    }
   ],
   "source": [
    "from string import punctuation\n",
    "punctuation"
   ]
  },
  {
   "cell_type": "markdown",
   "id": "9365a9e0",
   "metadata": {},
   "source": [
    "Cleaning the corpus using regular expressions. Pay attention to the '=', which is used for hyphenating words at line breaks."
   ]
  },
  {
   "cell_type": "code",
   "execution_count": 5,
   "id": "62fac915",
   "metadata": {},
   "outputs": [],
   "source": [
    "corpus_clean = corpus\n",
    "corpus_clean = re.sub('=\\n','',corpus_clean)\n",
    "corpus_clean = re.sub('\\n',' ',corpus_clean)\n",
    "corpus_clean = re.sub('[!\"#$%&\\'()*+,-./:;<=>?@[\\\\]^_`{|}~]','',corpus_clean)\n",
    "corpus_clean = corpus_clean.lower()\n",
    "corpus_clean = re.sub(' +',' ',corpus_clean)"
   ]
  },
  {
   "cell_type": "markdown",
   "id": "05051156",
   "metadata": {},
   "source": [
    "## NLTK"
   ]
  },
  {
   "cell_type": "code",
   "execution_count": 6,
   "id": "7da9c6cf",
   "metadata": {},
   "outputs": [],
   "source": [
    "corpus_freq = nltk.FreqDist(corpus_clean.split())"
   ]
  },
  {
   "cell_type": "code",
   "execution_count": 7,
   "id": "dccd4a31",
   "metadata": {},
   "outputs": [
    {
     "data": {
      "text/plain": [
       "[('oc', 116625),\n",
       " ('at', 55665),\n",
       " ('som', 46747),\n",
       " ('det', 39613),\n",
       " ('til', 33813),\n",
       " ('er', 32954),\n",
       " ('hand', 32275),\n",
       " ('de', 31228),\n",
       " ('i', 31021),\n",
       " ('der', 30635),\n",
       " ('icke', 29471),\n",
       " ('den', 29092),\n",
       " ('aff', 21477),\n",
       " ('saa', 21422),\n",
       " ('paa', 20529),\n",
       " ('gud', 16835),\n",
       " ('en', 16757),\n",
       " ('for', 15682),\n",
       " ('da', 13992),\n",
       " ('men', 13888)]"
      ]
     },
     "execution_count": 7,
     "metadata": {},
     "output_type": "execute_result"
    }
   ],
   "source": [
    "corpus_freq.most_common(20)"
   ]
  },
  {
   "cell_type": "markdown",
   "id": "454302a2",
   "metadata": {},
   "source": [
    "Many corpora are not very useful at first, since they contain many words that only provide noise. Therefore we will remove words that are not meaningful using a stopword list."
   ]
  },
  {
   "cell_type": "code",
   "execution_count": 8,
   "id": "a90596db",
   "metadata": {},
   "outputs": [],
   "source": [
    "with open('stopwords/stopwords.txt','r',encoding='utf-8') as file:\n",
    "    stopwords = file.read()\n",
    "corpus_no_stops = [word for word in corpus_clean.split() if word not in stopwords]"
   ]
  },
  {
   "cell_type": "code",
   "execution_count": 9,
   "id": "d035a8ec",
   "metadata": {},
   "outputs": [],
   "source": [
    "corpus_no_stops_freq = nltk.FreqDist(corpus_no_stops)"
   ]
  },
  {
   "cell_type": "code",
   "execution_count": 10,
   "id": "8200bbd0",
   "metadata": {},
   "outputs": [
    {
     "data": {
      "text/plain": [
       "[('gud', 16835),\n",
       " ('guds', 12965),\n",
       " ('oss', 11331),\n",
       " ('siger', 10293),\n",
       " ('alle', 8178),\n",
       " ('christus', 7194),\n",
       " ('ord', 6783),\n",
       " ('see', 5962),\n",
       " ('herre', 5534),\n",
       " ('mand', 5398),\n",
       " ('giøre', 5376),\n",
       " ('jesus', 4846),\n",
       " ('christi', 4525),\n",
       " ('lige', 4462),\n",
       " ('att', 4445),\n",
       " ('jesu', 4306),\n",
       " ('aand', 4035),\n",
       " ('herren', 3923),\n",
       " ('sagde', 3889),\n",
       " ('hellige', 3619)]"
      ]
     },
     "execution_count": 10,
     "metadata": {},
     "output_type": "execute_result"
    }
   ],
   "source": [
    "corpus_no_stops_freq.most_common(20)"
   ]
  },
  {
   "cell_type": "markdown",
   "id": "385e636e",
   "metadata": {},
   "source": [
    "A way of exploring the corpus is using the concordance function. There you can examine one or more words in their context.\n",
    "Begin by building an nltk text object. Here we are using the clean text, but with all the stopwords included to understand the context better."
   ]
  },
  {
   "cell_type": "code",
   "execution_count": 11,
   "id": "7a4c2f3d",
   "metadata": {},
   "outputs": [],
   "source": [
    "corpus_nltk = nltk.Text(corpus_clean.split())"
   ]
  },
  {
   "cell_type": "code",
   "execution_count": 12,
   "id": "e27d42ac",
   "metadata": {},
   "outputs": [
    {
     "name": "stdout",
     "output_type": "stream",
     "text": [
      "Displaying 25 of 1884 matches:\n",
      "onis huus oc hoff da haffuer hand godgen oc gierne forlat all verdsens ære høyhed oc h hed som hand haffde som den der \n",
      "e gamle surdey forlad heller med mose ægypil herlighed oc all verdsens ære end du skulle der ved hindris udi din guds t\n",
      "d vil med oplæste ord stelle eder for øyen hu til gud aff all evighed hafuer eder kaldet oc udvald s siger s povel til \n",
      "tus gaff sig selff for paa det hand skulde forløse os fra all wretvijszhed rense sig selff it folck til eyedom som skul\n",
      "ra synden skulle leffue i retfærdig du da som leffuer udi all wgudelighed oc wretfærhed med huad samvittighed kand du s\n",
      "ynd tilregne j skulle høre med glæde see det glam som bar all verdsens synder j skulle finde sæm ært det s hans lærer e\n",
      "evig ære oc loff med faderen oc den hellig aand nu oc udi all evighed amen dette hellige evangelium beskriffuer mnartus\n",
      "t vaar at christus skulde opstaa fra de døde da vijder at all den christelige religion vaar intet udi nogen maade nysti\n",
      "tor den monne være oc paa det j dis bedre kunde eracte at all denne quindernis bekymring er idel kiødelig bekymring oc \n",
      "e quindernis bekymring er idel kiødelig bekymring oc uden all grund da hører huad her staae udi voris hellige tert oc s\n",
      "da hafde j vel ved guds oc jesu aabenbaring forstandet at all saadan fryct oc fare vaar idel forfengelighed thi førend \n",
      "syycte icke at de icke skulle finde jesum udi graffuen oc all deris wmage oc bekostning udi saa maade at skulle være id\n",
      "t ville salpe jesu døde legem men jesus lader dennem imod all deris forsæt oc forhaabning lære oc undervijse at hand va\n",
      "e disciple effter opstandelsen denne befalnis gaar bort i all verden oc prædicker evangelium for creatur formelder icke\n",
      " oc vedst at sige aff hans lærdom oc gierninger oc bygger all din retfærdighed paa hans død oc opstandelse saa siger jo\n",
      "denne sag at hand oprørde folcket j det hand lærde offuer all judæa siden hand begynte udi galuæa acter her guds underl\n",
      "den saa offuerflødis at den giffuis hannem uden oc offuer all maade huad ti ckis eder nu j christne ville j med jøderne\n",
      "d saaledis met hannem at ingen ting vahannem umueligt men all ting vaar hannem som den rele herre oc faderens eenbaarne\n",
      "em oc vi haabedis at hand skulde forløst jsrael oc offuer all dette er i dag den tredie dag at dette skeed der haffue o\n",
      " fra de døde opvact de tenckintet om jesu opstandelse men all deris tancke er henvendt til den forsmædelige død jesus h\n",
      " evangelio ste siger jesus vi gaa hen op til jerusaltm oc all e ting skulle fuldkommis som ere skreffne ved propheterne\n",
      "ndede christi opstandelse fra de døde men huor aff kommer all saadan daarskab oc hierternis seenhed til at tro saadafe \n",
      "orkynde det som star i mose propheterne oc apostlerne vdi all eders vdlegning da haffuer for øyen denne s povels regel \n",
      " eders vdlegning da haffuer for øyen denne s povels regel all prophetie skal være efter troens maade bort med all den v\n",
      "regel all prophetie skal være efter troens maade bort med all den vblegning der icke henfører it menniske til den salig\n"
     ]
    }
   ],
   "source": [
    "corpus_nltk.concordance('all',120)"
   ]
  }
 ],
 "metadata": {
  "kernelspec": {
   "display_name": "Python 3 (ipykernel)",
   "language": "python",
   "name": "python3"
  },
  "language_info": {
   "codemirror_mode": {
    "name": "ipython",
    "version": 3
   },
   "file_extension": ".py",
   "mimetype": "text/x-python",
   "name": "python",
   "nbconvert_exporter": "python",
   "pygments_lexer": "ipython3",
   "version": "3.9.12"
  }
 },
 "nbformat": 4,
 "nbformat_minor": 5
}
