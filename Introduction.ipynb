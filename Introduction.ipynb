{
 "cells": [
  {
   "cell_type": "markdown",
   "id": "a0c47728",
   "metadata": {},
   "source": [
    "# Introduction to the corpus\n",
    "The following notebook is designed to give an introduction to basic functions to can perform with the corpus using the Natural Language Toolkit as well as processes for preparing the texts."
   ]
  },
  {
   "cell_type": "code",
   "execution_count": 33,
   "id": "9fa040ef",
   "metadata": {},
   "outputs": [],
   "source": [
    "# Requirements\n",
    "import re\n",
    "import os\n",
    "import nltk"
   ]
  },
  {
   "cell_type": "markdown",
   "id": "f4b3635e",
   "metadata": {},
   "source": [
    "Generate a list of filenames for from data-folder"
   ]
  },
  {
   "cell_type": "code",
   "execution_count": 16,
   "id": "cd3b2d45",
   "metadata": {},
   "outputs": [],
   "source": [
    "file_list = ['data/'+file for file in os.listdir('data/') if file.endswith('.txt')]"
   ]
  },
  {
   "cell_type": "markdown",
   "id": "f1dcc65d",
   "metadata": {},
   "source": [
    "Combine all available files into a single variable. This is intended to simplify the process and enables exploration of the entire corpus. If doing comparative studies, perform the following procedures for each file in the corpus."
   ]
  },
  {
   "cell_type": "code",
   "execution_count": 19,
   "id": "2e63933b",
   "metadata": {},
   "outputs": [],
   "source": [
    "corpus = ''\n",
    "for text in file_list:\n",
    "    with open(text,'r',encoding='utf-8') as file:\n",
    "        corpus += file.read()"
   ]
  },
  {
   "cell_type": "markdown",
   "id": "56f37776",
   "metadata": {},
   "source": [
    "## Cleaning the data"
   ]
  },
  {
   "cell_type": "markdown",
   "id": "ec610549",
   "metadata": {},
   "source": [
    "Import the 'punctuation' variable from 'string' library and use as basis for removing punctuation. Do this last, since certain types of punctuation might have specific functions."
   ]
  },
  {
   "cell_type": "code",
   "execution_count": 52,
   "id": "0c7699c8",
   "metadata": {},
   "outputs": [
    {
     "data": {
      "text/plain": [
       "'!\"#$%&\\'()*+,-./:;<=>?@[\\\\]^_`{|}~'"
      ]
     },
     "execution_count": 52,
     "metadata": {},
     "output_type": "execute_result"
    }
   ],
   "source": [
    "from string import punctuation\n",
    "punctuation"
   ]
  },
  {
   "cell_type": "markdown",
   "id": "9365a9e0",
   "metadata": {},
   "source": [
    "Cleaning the corpus using regular expressions. Pay attention to the '=', whcih is used for hyphenating words at line breaks."
   ]
  },
  {
   "cell_type": "code",
   "execution_count": 37,
   "id": "62fac915",
   "metadata": {},
   "outputs": [],
   "source": [
    "corpus_clean = corpus\n",
    "corpus_clean = re.sub('=\\n','',corpus_clean)\n",
    "corpus_clean = re.sub('\\n',' ',corpus_clean)\n",
    "corpus_clean = re.sub('[!\"#$%&\\'()*+,-./:;<=>?@[\\\\]^_`{|}~]','',corpus_clean)\n",
    "corpus_clean = corpus_clean.lower()\n",
    "corpus_clean = re.sub(' +',' ',corpus_clean)"
   ]
  },
  {
   "cell_type": "markdown",
   "id": "05051156",
   "metadata": {},
   "source": [
    "## NLTK"
   ]
  },
  {
   "cell_type": "code",
   "execution_count": 41,
   "id": "7da9c6cf",
   "metadata": {},
   "outputs": [],
   "source": [
    "corpus_freq = nltk.FreqDist(corpus_clean.split())"
   ]
  },
  {
   "cell_type": "code",
   "execution_count": 53,
   "id": "4a4f229d",
   "metadata": {},
   "outputs": [
    {
     "data": {
      "text/plain": [
       "[('oc', 47970),\n",
       " ('at', 24031),\n",
       " ('som', 20653),\n",
       " ('det', 15660),\n",
       " ('hand', 15432),\n",
       " ('til', 15395),\n",
       " ('er', 14988),\n",
       " ('den', 13811),\n",
       " ('icke', 12824),\n",
       " ('de', 12553),\n",
       " ('i', 12443),\n",
       " ('der', 10374),\n",
       " ('paa', 10289),\n",
       " ('aff', 9074),\n",
       " ('jeg', 7796),\n",
       " ('saa', 7560),\n",
       " ('for', 7138),\n",
       " ('en', 6734),\n",
       " ('udi', 6682),\n",
       " ('gud', 6661)]"
      ]
     },
     "execution_count": 53,
     "metadata": {},
     "output_type": "execute_result"
    }
   ],
   "source": [
    "corpus_freq.most_common(20)"
   ]
  },
  {
   "cell_type": "markdown",
   "id": "454302a2",
   "metadata": {},
   "source": [
    "Many corpora are not very useful at first, since they contain many words that only provide noise. Therefore we will remove words that are not meaningful using a stopword list."
   ]
  },
  {
   "cell_type": "code",
   "execution_count": 59,
   "id": "a90596db",
   "metadata": {},
   "outputs": [],
   "source": [
    "with open('stopwords/stopwords.txt','r',encoding='utf-8') as file:\n",
    "    stopwords = file.read()\n",
    "corpus_no_stops = [word for word in corpus_clean.split() if word not in stopwords]"
   ]
  },
  {
   "cell_type": "code",
   "execution_count": 60,
   "id": "d035a8ec",
   "metadata": {},
   "outputs": [],
   "source": [
    "corpus_no_stops_freq = nltk.FreqDist(corpus_no_stops)"
   ]
  },
  {
   "cell_type": "code",
   "execution_count": 61,
   "id": "8200bbd0",
   "metadata": {},
   "outputs": [
    {
     "data": {
      "text/plain": [
       "[('gud', 6661),\n",
       " ('guds', 6020),\n",
       " ('siger', 4848),\n",
       " ('alle', 3446),\n",
       " ('ord', 3166),\n",
       " ('jesus', 3036),\n",
       " ('christus', 3025),\n",
       " ('jesu', 2886),\n",
       " ('see', 2576),\n",
       " ('christi', 2442),\n",
       " ('herre', 2325),\n",
       " ('herren', 2282),\n",
       " ('aand', 2100),\n",
       " ('sagde', 2010),\n",
       " ('1', 1892),\n",
       " ('jesum', 1804),\n",
       " ('giøre', 1787),\n",
       " ('sige', 1768),\n",
       " ('saaledis', 1654),\n",
       " ('mand', 1630)]"
      ]
     },
     "execution_count": 61,
     "metadata": {},
     "output_type": "execute_result"
    }
   ],
   "source": [
    "corpus_no_stops_freq.most_common(20)"
   ]
  },
  {
   "cell_type": "markdown",
   "id": "385e636e",
   "metadata": {},
   "source": [
    "A way of exploring the corpus is using the concordance function. There you can examine one or more words in their context.\n",
    "Begin by building an nltk text object. Here we are using the clean text, but with all the stopwords included to understand the context better."
   ]
  },
  {
   "cell_type": "code",
   "execution_count": 49,
   "id": "7a4c2f3d",
   "metadata": {},
   "outputs": [],
   "source": [
    "corpus_nltk = nltk.Text(corpus_clean.split())"
   ]
  },
  {
   "cell_type": "code",
   "execution_count": 51,
   "id": "e27d42ac",
   "metadata": {},
   "outputs": [
    {
     "name": "stdout",
     "output_type": "stream",
     "text": [
      "Displaying 25 of 871 matches:\n",
      " haffuer hand godgen oc gierne forlat all verdsens ære høyhed oc h hed som hand\n",
      "d heller med mose ægypil herlighed oc all verdsens ære end du skulle der ved hi\n",
      "d stelle eder for øyen hu til gud aff all evighed hafuer eder kaldet oc udvald \n",
      "or paa det hand skulde forløse os fra all wretvijszhed rense sig selff it folck\n",
      "fue i retfærdig du da som leffuer udi all wgudelighed oc wretfærhed med huad sa\n",
      "e høre med glæde see det glam som bar all verdsens synder j skulle finde sæm vi\n",
      " faderen oc den hellig aand nu oc udi all evighed amen dette hellige evangelium\n",
      "kulde opstaa fra de døde da vijder at all den christelige religion vaar intet u\n",
      "c paa det j dis bedre kunde eracte at all denne quindernis bekymring er idel ki\n",
      "ng er idel kiødelig bekymring oc uden all grund da hører huad her staae udi vor\n",
      "uds oc jesu aabenbaring forstandet at all saadan fryct oc fare vaar idel forfen\n",
      "ke skulle finde jesum udi graffuen oc all deris wmage oc bekostning udi saa maa\n",
      " 10 legem men jesus lader dennem imod all deris forsæt oc forhaabning lære oc u\n",
      "standelsen denne befalnis gaar bort i all verden oc prædicker evangelium for e1\n",
      "f hans lærdom oc gierninger oc bygger all din retfærdighed paa hans død oc opst\n",
      "rørde folcket j det hand lærde offuer all judæa siden hand begynte udi galuæa a\n",
      " at den giffuis hannem uden oc offuer all maade huad ti ckis eder nu j christne\n",
      "m at ingen ting vahannem umueligt men all ting vaar hannem som den rele herre o\n",
      " hand skulde forløst jsrael oc offuer all dette er i dag den tredie dag at dett\n",
      "de tenckintet om jesu opstandelse men all deris tancke er henvendt til den fors\n",
      " jesus vi gaa hen op til jerusaltm oc all e ting skulle fuldkommis som ere skre\n",
      "delse fra de døde men huor aff kommer all saadan daarskab oc hierternis seenhed\n",
      " i mose propheterne oc apostlerne vdi all eders vdlegning da haffuer for øyen d\n",
      "haffuer for øyen denne s povels regel all prophetie skal være efter troens maad\n",
      "skal være efter troens maade bort med all den vblegning der icke henfører it me\n"
     ]
    }
   ],
   "source": [
    "corpus_nltk.concordance('all',120)"
   ]
  }
 ],
 "metadata": {
  "kernelspec": {
   "display_name": "Python 3 (ipykernel)",
   "language": "python",
   "name": "python3"
  },
  "language_info": {
   "codemirror_mode": {
    "name": "ipython",
    "version": 3
   },
   "file_extension": ".py",
   "mimetype": "text/x-python",
   "name": "python",
   "nbconvert_exporter": "python",
   "pygments_lexer": "ipython3",
   "version": "3.9.13"
  }
 },
 "nbformat": 4,
 "nbformat_minor": 5
}
